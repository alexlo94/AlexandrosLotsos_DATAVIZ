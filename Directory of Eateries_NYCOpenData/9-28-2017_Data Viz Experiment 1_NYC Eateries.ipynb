{
 "cells": [
  {
   "cell_type": "markdown",
   "metadata": {},
   "source": [
    "<h1>This is my first attempt at creating an iPython notebook and using python for data viz!</h1>\n",
    "\n",
    "I have used python for data <em>science</em> before but not for visualizations. Let's see how this goes!\n",
    "\n",
    "The dataset is from NYC Open Data (https://data.cityofnewyork.us) and is titled \"Directory of Eateries\"\n",
    "You can find the data set here:https://data.cityofnewyork.us/Recreation/Directory-of-Eateries/8792-ebcp\n",
    "\n",
    "The data is stored in JSON format and one of the main interest points of the set is that it holds the <em>name</em> and <em>category</em> of every place that serves food in NYC. Other attributes include the opening and closing date of the eatery, as well as the physical address and a text description of where the eatery is located, relative to its surroundings."
   ]
  },
  {
   "cell_type": "code",
   "execution_count": 37,
   "metadata": {
    "collapsed": true
   },
   "outputs": [],
   "source": [
    "#first, let's import neccessary packages\n",
    "#running this cell will make these three packages available for every subsequent cell\n",
    "import numpy as np\n",
    "import pandas as pd\n",
    "import seaborn as sb\n",
    "\n",
    "#the following line will enable inline plotting in the notebook\n",
    "%matplotlib inline"
   ]
  },
  {
   "cell_type": "markdown",
   "metadata": {},
   "source": [
    "So far we've imported 3 main packages: numpy, pandas and seaborn. Numpy and pandas give python access to better data structures to store data in, and access to a lot of scientific functions and methods. Seaborn is a visualization library that works tightly with numpy and pandas; it's based on matplotlib and is supposed to make more aesthetic visualizations than most other python libraries.\n",
    "\n",
    "Thus in the rest of the document we will do the following\n",
    "<ol>\n",
    "    <li>Access the JSON-formatted data</li>\n",
    "    <li>Use numpy and pandas to make a dataframe readable by Seaborn</li>\n",
    "    <li>Play with Seaborn!</li>"
   ]
  },
  {
   "cell_type": "code",
   "execution_count": 14,
   "metadata": {},
   "outputs": [
    {
     "name": "stdout",
     "output_type": "stream",
     "text": [
      "There are 249 eateries in NYC\n",
      "A typical entry looks like this: {'name': 'Central Park Food Cart', 'location': 'East 84 Street, pedestrian path, west side of East Drive', 'park_id': 'M010', 'start_date': '2015-07-29', 'end_date': '2019-12-31', 'description': None, 'permit_number': 'M10-84-ED-C', 'phone': None, 'website': None, 'type_name': 'Food Cart'}\n"
     ]
    }
   ],
   "source": [
    "#so for step 1, let's access and collect the data\n",
    "import json\n",
    "\n",
    "#open the file and store all the contents in a list\n",
    "with open('DPR_Eateries_001.json', 'r') as file:\n",
    "    eat_list = json.load(file)\n",
    "    \n",
    "#We now have access to the data for eateries in NYC and we can do things like:\n",
    "print(\"There are \" + str(len(eat_list)) + \" eateries in NYC\")\n",
    "print(\"A typical entry looks like this: \" + str(eat_list[7]))"
   ]
  },
  {
   "cell_type": "code",
   "execution_count": 25,
   "metadata": {},
   "outputs": [
    {
     "name": "stdout",
     "output_type": "stream",
     "text": [
      "The columns are the following: \n",
      "                                                 name               type_name\n",
      "0                              Central Park Food Cart               Food Cart\n",
      "1                              Central Park Food Cart               Food Cart\n",
      "2                              Central Park Food Cart               Food Cart\n",
      "3                              Central Park Food Cart               Food Cart\n",
      "4                              Central Park Food Cart               Food Cart\n",
      "5                              Central Park Food Cart               Food Cart\n",
      "6                              Central Park Food Cart               Food Cart\n",
      "7                              Central Park Food Cart               Food Cart\n",
      "8                              Central Park Food Cart               Food Cart\n",
      "9                              Central Park Food Cart               Food Cart\n",
      "10                             Central Park Food Cart               Food Cart\n",
      "11                             Central Park Food Cart               Food Cart\n",
      "12                             Central Park Food Cart               Food Cart\n",
      "13                             Battery Park Food Cart               Food Cart\n",
      "14                           Riverside Park Food Cart               Food Cart\n",
      "15                           Riverside Park Food Cart               Food Cart\n",
      "16                           Riverside Park Food Cart               Food Cart\n",
      "17            P.S. 143 Armstrong Playground Food Cart               Food Cart\n",
      "18                             Astoria Park Food Cart               Food Cart\n",
      "19                      Frank O'connor Park Food Cart               Food Cart\n",
      "20             Flushing Meadows Corona Park Food Cart               Food Cart\n",
      "21             Flushing Meadows Corona Park Food Cart               Food Cart\n",
      "22             Flushing Meadows Corona Park Food Cart               Food Cart\n",
      "23             Flushing Meadows Corona Park Food Cart               Food Cart\n",
      "24             Flushing Meadows Corona Park Food Cart               Food Cart\n",
      "25             Flushing Meadows Corona Park Food Cart               Food Cart\n",
      "26             Flushing Meadows Corona Park Food Cart               Food Cart\n",
      "27                       Van Cortlandt Park Food Cart               Food Cart\n",
      "28           Williamsbridge Oval Playground Food Cart               Food Cart\n",
      "29                          Pelham Bay Park Food Cart               Food Cart\n",
      "..                                                ...                     ...\n",
      "219                                           Wendy's               Snack Bar\n",
      "220                                  Crossroads To Go               Snack Bar\n",
      "221                             Harlem Meer Snack Bar               Snack Bar\n",
      "222                           First Park Outdoor Cafe               Snack Bar\n",
      "223                            Peter Minuit Snack Bar               Snack Bar\n",
      "224                            Battery Park Snack Bar               Snack Bar\n",
      "225                                    Dredsurfer LLC               Snack Bar\n",
      "226                            Verdi Square Snack Bar               Snack Bar\n",
      "227                                          NY Dosas          Specialty Cart\n",
      "228                 Otto Enoteca Pizzeria Gelato Cart          Specialty Cart\n",
      "229                               B.W.H. Trading Cart          Specialty Cart\n",
      "230                    People's Choice Mobile Kitchen          Specialty Cart\n",
      "231             El Olomega Red Hook Salvadoran Pupusa          Specialty Cart\n",
      "232             El Olomega Red Hook Salvadoran Pupusa          Specialty Cart\n",
      "233                                   Wafels & Dinges          Specialty Cart\n",
      "234                              Calexico Carne Asada          Specialty Cart\n",
      "235                                   Wafels & Dinges          Specialty Cart\n",
      "236                                   Wafels & Dinges          Specialty Cart\n",
      "237            Je & Jo Comestible Specialty Food Cart          Specialty Cart\n",
      "238                         Soho Square Gourmet Carts          Specialty Cart\n",
      "239                   Little Red Square Gourmet Carts          Specialty Cart\n",
      "240                                     Adameric Cart          Specialty Cart\n",
      "241                                              GROM          Specialty Cart\n",
      "242                                   Wafels & Dinges          Specialty Cart\n",
      "243                                     NANDITA, INC.          Specialty Cart\n",
      "244                        CAF&Eacute; PRODUCTS CORP.          Specialty Cart\n",
      "245  CC Moore Homestead Park Fruit and Vegetable Cart  Fruit & Vegetable Cart\n",
      "246        Hugh Grant Circle Fruit and Vegetable Cart  Fruit & Vegetable Cart\n",
      "247               Owen Dolen Fruit and Vegetable Cart  Fruit & Vegetable Cart\n",
      "248             McKinley Plaza Fruit & Vegetable Cart  Fruit & Vegetable Cart\n",
      "\n",
      "[249 rows x 2 columns]\n"
     ]
    }
   ],
   "source": [
    "#for step 2, let's make a dataframe to use in step 3\n",
    "\n",
    "#since our data is a list of dicts pandas lets us make one immediately\n",
    "eat_dframe = pd.DataFrame(eat_list)\n",
    "\n",
    "#using our dataframe we get a neat table where each row is an entry in the previous list\n",
    "print(\"The columns are the following: \")\n",
    "for column in eat_dframe.columns.values:\n",
    "    print(column)\n",
    "\n",
    "#let's select only the categories that we want to visualize later\n",
    "eat_dframe2 = eat_dframe[['name', 'type_name']]\n",
    "print(eat_dframe2)"
   ]
  },
  {
   "cell_type": "code",
   "execution_count": 27,
   "metadata": {},
   "outputs": [
    {
     "name": "stdout",
     "output_type": "stream",
     "text": [
      "                                                 name               type_name\n",
      "0                              Central Park Food Cart               Food Cart\n",
      "13                             Battery Park Food Cart               Food Cart\n",
      "14                           Riverside Park Food Cart               Food Cart\n",
      "17            P.S. 143 Armstrong Playground Food Cart               Food Cart\n",
      "18                             Astoria Park Food Cart               Food Cart\n",
      "19                      Frank O'connor Park Food Cart               Food Cart\n",
      "20             Flushing Meadows Corona Park Food Cart               Food Cart\n",
      "27                       Van Cortlandt Park Food Cart               Food Cart\n",
      "28           Williamsbridge Oval Playground Food Cart               Food Cart\n",
      "29                          Pelham Bay Park Food Cart               Food Cart\n",
      "30                           St. James Park Food Cart               Food Cart\n",
      "31                          Windmuller Park Food Cart               Food Cart\n",
      "33                        Harlem River Park Food Cart               Food Cart\n",
      "34                           Maria Hernandez Pushcart               Food Cart\n",
      "35                                           Pushcart               Food Cart\n",
      "36                   Corona Golf Playground Food Cart               Food Cart\n",
      "37                                     Park Cafe East               Food Cart\n",
      "38                         Tweety's Mobile Food Truck               Food Cart\n",
      "39                           Rose Hill Park Food Cart               Food Cart\n",
      "40                           PS 100 Playground Trucks               Food Cart\n",
      "41                              Sakura Park Food Cart               Food Cart\n",
      "45                        Bloomingdale Park Food Cart               Food Cart\n",
      "46                        Hugh Grant Circle Food Cart               Food Cart\n",
      "47                                   YAKUBOV, GAVRIEL               Food Cart\n",
      "48                   Prospect Park Parade Ground Cart               Food Cart\n",
      "49                              Sunset Park Food Cart               Food Cart\n",
      "50                      Prospect Park Mount Food Cart               Food Cart\n",
      "51                                Riverside Park Cart               Food Cart\n",
      "52                           Williamsbridge Oval Park               Food Cart\n",
      "53                                   Harris Park Cart               Food Cart\n",
      "..                                                ...                     ...\n",
      "215                                 Olmsted Cafeteria               Snack Bar\n",
      "216                           Rodman's Neck Snack Bar               Snack Bar\n",
      "217                           Orchard Beach Snack Bar               Snack Bar\n",
      "218                                    Dunkin' Donuts               Snack Bar\n",
      "219                                           Wendy's               Snack Bar\n",
      "220                                  Crossroads To Go               Snack Bar\n",
      "221                             Harlem Meer Snack Bar               Snack Bar\n",
      "222                           First Park Outdoor Cafe               Snack Bar\n",
      "223                            Peter Minuit Snack Bar               Snack Bar\n",
      "224                            Battery Park Snack Bar               Snack Bar\n",
      "225                                    Dredsurfer LLC               Snack Bar\n",
      "226                            Verdi Square Snack Bar               Snack Bar\n",
      "227                                          NY Dosas          Specialty Cart\n",
      "228                 Otto Enoteca Pizzeria Gelato Cart          Specialty Cart\n",
      "229                               B.W.H. Trading Cart          Specialty Cart\n",
      "230                    People's Choice Mobile Kitchen          Specialty Cart\n",
      "231             El Olomega Red Hook Salvadoran Pupusa          Specialty Cart\n",
      "233                                   Wafels & Dinges          Specialty Cart\n",
      "234                              Calexico Carne Asada          Specialty Cart\n",
      "237            Je & Jo Comestible Specialty Food Cart          Specialty Cart\n",
      "238                         Soho Square Gourmet Carts          Specialty Cart\n",
      "239                   Little Red Square Gourmet Carts          Specialty Cart\n",
      "240                                     Adameric Cart          Specialty Cart\n",
      "241                                              GROM          Specialty Cart\n",
      "243                                     NANDITA, INC.          Specialty Cart\n",
      "244                        CAF&Eacute; PRODUCTS CORP.          Specialty Cart\n",
      "245  CC Moore Homestead Park Fruit and Vegetable Cart  Fruit & Vegetable Cart\n",
      "246        Hugh Grant Circle Fruit and Vegetable Cart  Fruit & Vegetable Cart\n",
      "247               Owen Dolen Fruit and Vegetable Cart  Fruit & Vegetable Cart\n",
      "248             McKinley Plaza Fruit & Vegetable Cart  Fruit & Vegetable Cart\n",
      "\n",
      "[195 rows x 2 columns]\n"
     ]
    }
   ],
   "source": [
    "#there are quite a few duplicates so let's clean this up\n",
    "clean_dframe = eat_dframe2.drop_duplicates()\n",
    "print(clean_dframe)"
   ]
  },
  {
   "cell_type": "code",
   "execution_count": 38,
   "metadata": {
    "scrolled": false
   },
   "outputs": [
    {
     "data": {
      "image/png": "[encoded data removed]",
      "text/plain": [
       "<matplotlib.figure.Figure at 0x22db34a2390>"
      ]
     },
     "metadata": {},
     "output_type": "display_data"
    }
   ],
   "source": [
    "#so now that we have a clean dataframe without duplicates we can move on to step 3\n",
    "#let's see how many eateries are in each categories!\n",
    "\n",
    "\n",
    "ax = sb.countplot(x='type_name', data=clean_dframe)"
   ]
  },
  {
   "cell_type": "code",
   "execution_count": 47,
   "metadata": {},
   "outputs": [
    {
     "data": {
      "image/png": "[encoded data removed]",
      "text/plain": [
       "<matplotlib.figure.Figure at 0x22db3aa2ba8>"
      ]
     },
     "metadata": {},
     "output_type": "display_data"
    }
   ],
   "source": [
    "#right now the figure is too small so let's adjust that\n",
    "sb.set_context(\"talk\")\n",
    "ax = sb.countplot(x='type_name', data=clean_dframe)"
   ]
  },
  {
   "cell_type": "code",
   "execution_count": 57,
   "metadata": {},
   "outputs": [
    {
     "data": {
      "image/png": "[encoded data removed]",
      "text/plain": [
       "<matplotlib.figure.Figure at 0x22db5111710>"
      ]
     },
     "metadata": {},
     "output_type": "display_data"
    }
   ],
   "source": [
    "#those last two categories are overlapping so let's try tilting the graph\n",
    "#let's also try labeling the axes something better\n",
    "sb.set_context(\"talk\")\n",
    "clean_dframe.columns = ['Name', 'Category']\n",
    "ax = sb.countplot(y='Category', data=clean_dframe)"
   ]
  },
  {
   "cell_type": "markdown",
   "metadata": {},
   "source": [
    "We've produced a nice bargraph that tells us that the most popular form of eatery in NYC is a food truck. Of course, this is followed by the iconic manhattan food cart and surprisingly, restaurants are the second least popular category."
   ]
  }
 ],
 "metadata": {
  "kernelspec": {
   "display_name": "Python 3",
   "language": "python",
   "name": "python3"
  },
  "language_info": {
   "codemirror_mode": {
    "name": "ipython",
    "version": 3
   },
   "file_extension": ".py",
   "mimetype": "text/x-python",
   "name": "python",
   "nbconvert_exporter": "python",
   "pygments_lexer": "ipython3",
   "version": "3.6.1"
  }
 },
 "nbformat": 4,
 "nbformat_minor": 2
}
