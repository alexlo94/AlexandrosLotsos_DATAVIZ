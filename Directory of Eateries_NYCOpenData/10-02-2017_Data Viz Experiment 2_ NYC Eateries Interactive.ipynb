{
 "cells": [
  {
   "cell_type": "markdown",
   "metadata": {},
   "source": [
    "<h1 style = \"text-align: center\">Data Viz Experiment 2: Interactive plot</h1>\n",
    "\n",
    "In the previous experiment (which you can find <a href = 'http://nbviewer.jupyter.org/github/alexlo94/AlexandrosLotsos_DATAVIZ/blob/master/Directory%20of%20Eateries_NYCOpenData/9-28-2017_Data%20Viz%20Experiment%201_NYC%20Eateries.ipynb'>here</a>) we used a dataset from <a href = 'https://data.cityofnewyork.us/'>NYC Open Data</a> which was titled <a href = 'https://data.cityofnewyork.us/Recreation/Directory-of-Eateries/8792-ebcp'>\"Directory of Eateries\"</a>.\n",
    "\n",
    "Just like before, the data is stored in JSON format and the main attributes of the set we will be examining are the <em>name</em> and <em>category</em> of each institution. To expand on the previous experiment we will be using <a>seaborn</a> to produce static visualizations and <a>plotly</a> to produce interactive visualizations."
   ]
  },
  {
   "cell_type": "code",
   "execution_count": 2,
   "metadata": {
    "collapsed": true
   },
   "outputs": [],
   "source": [
    "#first let's import neccessary packages\n",
    "#running this cell will make the packages available for the entire notebook\n",
    "import numpy as np\n",
    "import pandas as pd\n",
    "import matplotlib.pyplot as plt\n",
    "import seaborn as sb\n",
    "import plotly.plotly as py\n",
    "import plotly.graph_objs as go #plotly packages!\n",
    "\n",
    "#the following command will enable inline plotting in our notebook\n",
    "%matplotlib inline"
   ]
  },
  {
   "cell_type": "markdown",
   "metadata": {},
   "source": [
    "Similar to the previous experiment, our goal for the rest of the document is to accomplish the following:\n",
    "<ol>\n",
    "    <li>Access the JSON to read the data</li>\n",
    "    <li>Create a dataframe from the data that seaborn and plotly will be able to use</li>\n",
    "    <li>Produce a complete, <b>static visualization</b> with <em>seaborn</em></li>\n",
    "    <li>Produce a complete, <b>interactive visualization</b> with <em>plotly</em></li>\n",
    "</ol>"
   ]
  },
  {
   "cell_type": "code",
   "execution_count": 3,
   "metadata": {},
   "outputs": [
    {
     "name": "stdout",
     "output_type": "stream",
     "text": [
      "                                           description    end_date  \\\n",
      "0                                                 None  2018-12-31   \n",
      "13                                                None  2020-12-31   \n",
      "14                                                None  2017-12-31   \n",
      "17                                                None  2013-12-31   \n",
      "18                                                None  2017-12-31   \n",
      "19                                                None  2013-12-31   \n",
      "20                                                None  2017-12-31   \n",
      "27                                                None  2017-12-31   \n",
      "28                                                None  2017-12-31   \n",
      "29                                                None  2018-12-31   \n",
      "30                                                None  2018-12-31   \n",
      "31                                                None  2018-12-31   \n",
      "33                                                None  2014-12-31   \n",
      "34                                                None  2018-12-31   \n",
      "35                                                None  2014-12-31   \n",
      "36                                                None  2014-12-31   \n",
      "37                                                None  2016-03-31   \n",
      "38                                                None  2017-12-31   \n",
      "39                                                None  2015-12-31   \n",
      "40                                                None  2015-12-31   \n",
      "41                                                None  2015-12-31   \n",
      "45                                                None  2015-12-31   \n",
      "46                                                None  2017-12-31   \n",
      "47                                                None  2017-12-31   \n",
      "48                                                None  2015-12-31   \n",
      "49                                                None  2017-12-31   \n",
      "50                                                None  2017-12-31   \n",
      "51                                                None  2017-12-31   \n",
      "52                                                None  2017-12-31   \n",
      "53                                                None  2017-12-31   \n",
      "..                                                 ...         ...   \n",
      "214                                               None  2025-07-25   \n",
      "215                                               None  2016-10-17   \n",
      "216  Rodman's Neck Snack Bar is a friendly snack ba...  2020-09-15   \n",
      "217  A friendly snack bar located in the Orchard Be...  2020-05-13   \n",
      "218  Dunkin' Donuts provides customers with high qu...  2020-03-17   \n",
      "219  Wendy's in Keltch Memorial Park is located on ...  2020-10-31   \n",
      "220  Crossroads To Go opened in 2008 following exte...  2016-12-31   \n",
      "221  For over 20 years, Maoz have been continuously...  2020-03-31   \n",
      "222                                               None  2024-03-07   \n",
      "223                                               None  2017-02-25   \n",
      "224                                               None  2015-05-31   \n",
      "225  The DreadSurfer snack bar began operations in ...  2022-12-31   \n",
      "226  Le Pain Quotidien bakery and communal table se...  2025-07-27   \n",
      "227  The NY Dosas specialty cart, owned and operate...  2018-09-17   \n",
      "228  A satellite of Mario Batali and Joe Bastianich...  2015-03-31   \n",
      "229                                               None  2015-06-30   \n",
      "230                                               None  2015-08-04   \n",
      "231  A fixture of Red Hook Park for over 20 years, ...  2015-12-31   \n",
      "233  Wafels & Dinges is renowned for their authenti...  2015-09-30   \n",
      "234  Calexico Carne Asada combines Mexican and Amer...  2016-03-31   \n",
      "237                                               None  2016-09-28   \n",
      "238                                               None  2017-03-31   \n",
      "239                                               None  2017-04-23   \n",
      "240                                               None  2018-03-23   \n",
      "241                                               None  2017-07-05   \n",
      "244                                               None  2021-08-14   \n",
      "245                                               None  2014-12-31   \n",
      "246                                               None  2014-12-31   \n",
      "247                                               None  2014-12-31   \n",
      "248                                               None  2017-12-31   \n",
      "\n",
      "                                              location  \\\n",
      "0    At the entrance to the path leading to the Pon...   \n",
      "13                                 8 Various Locations   \n",
      "14      Near the entrance to West 91 Street Playground   \n",
      "17   37th Avenue between 112th Street and 113th Street   \n",
      "18                    Astoria Park next to Field House   \n",
      "19       Broadway, between 78th Street and 79th Street   \n",
      "20                     North corner of Soccer Field #5   \n",
      "27   Near Paddleball courts at Broadway & West 241 ...   \n",
      "28     Van Cortlandt Avenue East & Reservoir Oval East   \n",
      "29            Outside playground #1, at Middleton Road   \n",
      "30   Jerome Ave. between E. 191st Street and E. 193...   \n",
      "31                           52nd Street and 39th Road   \n",
      "33                    East 128th Street and 3rd Avenue   \n",
      "34         Along Irving St., b/w Star & Suydam Streets   \n",
      "35   Near northern intersection of Avenues of Progr...   \n",
      "36                               111th St. & 46th Ave.   \n",
      "37              E. Kingsbridge Rd. & Fordham & Webster   \n",
      "38                E 172 St. Bw Morris and Teller Aves.   \n",
      "39                         Corner of Fordham & Webster   \n",
      "40                     Theriot, Taylor and Story Aves.   \n",
      "41               E. Side of Riverside Dr. & W. 122 St.   \n",
      "45                      Ramona Avenue & Lenevar Avenue   \n",
      "46   East 177th Street, Wstchester Avenue, Virginia...   \n",
      "47                         GRAVESEND BAY, 21 & CROPSEY   \n",
      "48                South West Corner of baseball fields   \n",
      "49                 44th Street btw 5th and 7th Avenues   \n",
      "50                                    Grand Army Plaza   \n",
      "51                  West 148 Street and Riverside Park   \n",
      "52                               South corner of track   \n",
      "53                          Paul Avenue and 205 Street   \n",
      "..                                                 ...   \n",
      "214  Ederle Terrace, 61-30 Van Wyck Expressway, ove...   \n",
      "215                                     Olmsted Center   \n",
      "216                     The NYC Police Academy, Rodman   \n",
      "217                        3 Locations along the beach   \n",
      "218                      1320 Hutchinson River Parkway   \n",
      "219                               19 West 170th Street   \n",
      "220             Joralemon Street between Adams & Court   \n",
      "221                                        Harlem Meer   \n",
      "222  Between East Houston Street and East First Street   \n",
      "223                                           Pavilion   \n",
      "224                                       Battery Park   \n",
      "225                                  Beach 17th Street   \n",
      "226                           72nd Street and Broadway   \n",
      "227  North side of Washington Square at Sullivan St...   \n",
      "228  Inside the northwest entrance, Washington Squa...   \n",
      "229  Pelham Parkway South, between Wilson Avenue an...   \n",
      "230  Pelham Parkway South, between Wilson Avenue an...   \n",
      "231  At the intersection of Bay Street and Henry St...   \n",
      "233  West of the Scholar's Gate entrance at 60th St...   \n",
      "234  Within roadbed parkway on west side of Broadwa...   \n",
      "237                     Hudson Street & W. 11st Street   \n",
      "238                  Spring St. & Ave. of the Americas   \n",
      "239  Little Red Sq., Bleeker St. & Ave. of the Amer...   \n",
      "240                Western Border of Cobblestone Plaza   \n",
      "241  Southwest Corner of East 72 Street and 5th Avenue   \n",
      "244        COLUMBUS CIR. BEHIND THE USS MAINE MONUMENT   \n",
      "245         Broadway, between Elmhurst & Britton Ave.    \n",
      "246  E. 177 Street, Westchester Avenue, and Virgini...   \n",
      "247   E. Tremont Ave., Westchester Ave., and Lane Ave.   \n",
      "248                     East 169th Street, Boston Road   \n",
      "\n",
      "                                                 name park_id permit_number  \\\n",
      "0                              Central Park Food Cart    M010   M10-61-ED-C   \n",
      "13                             Battery Park Food Cart    M005          M5-C   \n",
      "14                           Riverside Park Food Cart    M071    M71-W91-2C   \n",
      "17            P.S. 143 Armstrong Playground Food Cart    Q415        Q415-C   \n",
      "18                             Astoria Park Food Cart    Q004         Q4-3C   \n",
      "19                      Frank O'connor Park Food Cart    Q098         Q98-C   \n",
      "20             Flushing Meadows Corona Park Food Cart    Q099     Q99-(1)-C   \n",
      "27                       Van Cortlandt Park Food Cart    X092    X92-(11)-C   \n",
      "28           Williamsbridge Oval Playground Food Cart    X104        X104-C   \n",
      "29                          Pelham Bay Park Food Cart    X039       X39-1-C   \n",
      "30                           St. James Park Food Cart    X044         X44-C   \n",
      "31                          Windmuller Park Food Cart    Q031         Q31-C   \n",
      "33                        Harlem River Park Food Cart    M039         M39-C   \n",
      "34                           Maria Hernandez Pushcart    B016         B16-C   \n",
      "35                                           Pushcart    Q099      Q99-6-AC   \n",
      "36                   Corona Golf Playground Food Cart    Q450        Q450-C   \n",
      "37                                     Park Cafe East    M159          X5-C   \n",
      "38                         Tweety's Mobile Food Truck    X008        X8-3MT   \n",
      "39                           Rose Hill Park Food Cart    X042         X42-C   \n",
      "40                           PS 100 Playground Trucks    X159       X204-MT   \n",
      "41                              Sakura Park Food Cart    M087    M87-W122-C   \n",
      "45                        Bloomingdale Park Food Cart    R106        R106-C   \n",
      "46                        Hugh Grant Circle Food Cart    X025         X25-C   \n",
      "47                                   YAKUBOV, GAVRIEL    B007      B007-1-C   \n",
      "48                   Prospect Park Parade Ground Cart    B073       B73-8-C   \n",
      "49                              Sunset Park Food Cart    B087        B087-C   \n",
      "50                      Prospect Park Mount Food Cart    B073        B159-C   \n",
      "51                                Riverside Park Cart    M071  M72-W148-1-C   \n",
      "52                           Williamsbridge Oval Park    X104      X104-2-C   \n",
      "53                                   Harris Park Cart    X136        X136-C   \n",
      "..                                                ...     ...           ...   \n",
      "214                          Ederle Terrace Snack Bar    Q099     Q99(2)-SB   \n",
      "215                                 Olmsted Cafeteria    Q099      Q99-J-SB   \n",
      "216                           Rodman's Neck Snack Bar    X039    X039-VM-SB   \n",
      "217                           Orchard Beach Snack Bar    X039   X39-C-BW-SB   \n",
      "218                                    Dunkin' Donuts    X101      X101-O-R   \n",
      "219                                           Wendy's    X058         X58-R   \n",
      "220                                  Crossroads To Go   B113C         B9-SB   \n",
      "221                             Harlem Meer Snack Bar    M039     M10-64-SB   \n",
      "222                           First Park Outdoor Cafe    M124       M124-SB   \n",
      "223                            Peter Minuit Snack Bar    M005      M5-PM-SB   \n",
      "224                            Battery Park Snack Bar    M005         M5-SB   \n",
      "225                                    Dredsurfer LLC    Q162     Q162-2-SB   \n",
      "226                            Verdi Square Snack Bar    M097        M94-SB   \n",
      "227                                          NY Dosas    M098     M98-EC-CG   \n",
      "228                 Otto Enoteca Pizzeria Gelato Cart    M098        M98-CG   \n",
      "229                               B.W.H. Trading Cart    X003      X3(2)-CG   \n",
      "230                    People's Choice Mobile Kitchen    X003         X3-CG   \n",
      "231             El Olomega Red Hook Salvadoran Pupusa    B126       B126-CG   \n",
      "233                                   Wafels & Dinges    M010      M10-9-CG   \n",
      "234                              Calexico Carne Asada    M101       M101-CG   \n",
      "237            Je & Jo Comestible Specialty Food Cart    M251       M251-CG   \n",
      "238                         Soho Square Gourmet Carts    B049       MZ02-CG   \n",
      "239                   Little Red Square Gourmet Carts    MZ06       MZ06-CG   \n",
      "240                                     Adameric Cart    M007       M007-CG   \n",
      "241                                              GROM    M010    M10-E72-CG   \n",
      "244                        CAF&Eacute; PRODUCTS CORP.    M010    M10-W59-CG   \n",
      "245  CC Moore Homestead Park Fruit and Vegetable Cart    Q361       Q361-GR   \n",
      "246        Hugh Grant Circle Fruit and Vegetable Cart    X025        X25-GR   \n",
      "247               Owen Dolen Fruit and Vegetable Cart    X016        X16-GR   \n",
      "248             McKinley Plaza Fruit & Vegetable Cart    B060        X31-GR   \n",
      "\n",
      "               phone  start_date               type_name  \\\n",
      "0               None  2014-01-01               Food Cart   \n",
      "13              None  2016-09-01               Food Cart   \n",
      "14              None  2013-02-16               Food Cart   \n",
      "17              None  2009-06-11               Food Cart   \n",
      "18              None  2013-04-16               Food Cart   \n",
      "19              None  2009-05-08               Food Cart   \n",
      "20              None  2013-06-03               Food Cart   \n",
      "27              None  2013-05-23               Food Cart   \n",
      "28              None  2013-06-28               Food Cart   \n",
      "29              None  2014-07-28               Food Cart   \n",
      "30              None  2014-04-18               Food Cart   \n",
      "31              None  2014-05-15               Food Cart   \n",
      "33              None  2010-07-02               Food Cart   \n",
      "34              None  2014-06-13               Food Cart   \n",
      "35              None  2011-06-13               Food Cart   \n",
      "36              None  2011-05-24               Food Cart   \n",
      "37              None  2011-07-28               Food Cart   \n",
      "38              None  2013-03-15               Food Cart   \n",
      "39              None  2011-07-21               Food Cart   \n",
      "40              None  2011-08-23               Food Cart   \n",
      "41              None  2012-01-01               Food Cart   \n",
      "45              None  2013-10-11               Food Cart   \n",
      "46              None  2013-02-21               Food Cart   \n",
      "47              None  2013-08-01               Food Cart   \n",
      "48              None  2012-03-21               Food Cart   \n",
      "49              None  2013-07-15               Food Cart   \n",
      "50              None  2013-07-17               Food Cart   \n",
      "51              None  2014-01-01               Food Cart   \n",
      "52              None  2013-06-05               Food Cart   \n",
      "53              None  2013-07-11               Food Cart   \n",
      "..               ...         ...                     ...   \n",
      "214             None  2014-07-26               Snack Bar   \n",
      "215             None  2011-10-18               Snack Bar   \n",
      "216             None  2014-09-16               Snack Bar   \n",
      "217   (718) 518-1800  2012-05-04               Snack Bar   \n",
      "218   (718) 863-8692  2005-03-18               Snack Bar   \n",
      "219   (718) 681-0483  2005-11-01               Snack Bar   \n",
      "220   (718) 972-1852  2008-01-01               Snack Bar   \n",
      "221             None  2012-04-01               Snack Bar   \n",
      "222  ( 212) 529-8766  2011-11-07               Snack Bar   \n",
      "223             None  2011-02-24               Snack Bar   \n",
      "224             None  2006-06-01               Snack Bar   \n",
      "225             None  2014-01-01               Snack Bar   \n",
      "226             None  2016-07-27               Snack Bar   \n",
      "227   (917) 710-2092  2013-09-18          Specialty Cart   \n",
      "228   (212) 995-9559  2010-04-01          Specialty Cart   \n",
      "229             None  2010-07-01          Specialty Cart   \n",
      "230             None  2010-08-05          Specialty Cart   \n",
      "231             None  2011-01-01          Specialty Cart   \n",
      "233   1-866-429-7329  2010-10-01          Specialty Cart   \n",
      "234             None  2011-04-01          Specialty Cart   \n",
      "237             None  2011-09-29          Specialty Cart   \n",
      "238             None  2012-04-01          Specialty Cart   \n",
      "239             None  2012-04-24          Specialty Cart   \n",
      "240             None  2013-03-24          Specialty Cart   \n",
      "241             None  2012-07-06          Specialty Cart   \n",
      "244             None  2016-08-15          Specialty Cart   \n",
      "245   (212) 879-0244  2010-04-21  Fruit & Vegetable Cart   \n",
      "246             None  2010-05-10  Fruit & Vegetable Cart   \n",
      "247             None  2011-09-07  Fruit & Vegetable Cart   \n",
      "248             None  2013-05-01  Fruit & Vegetable Cart   \n",
      "\n",
      "                                              website  \n",
      "0                                                None  \n",
      "13                                               None  \n",
      "14                                               None  \n",
      "17                                               None  \n",
      "18                                               None  \n",
      "19                                               None  \n",
      "20                                               None  \n",
      "27                                               None  \n",
      "28                                               None  \n",
      "29                                               None  \n",
      "30                                               None  \n",
      "31                                               None  \n",
      "33                                               None  \n",
      "34                                               None  \n",
      "35                                               None  \n",
      "36                                               None  \n",
      "37                                               None  \n",
      "38                                               None  \n",
      "39                                               None  \n",
      "40                                               None  \n",
      "41                                               None  \n",
      "45                                               None  \n",
      "46                                               None  \n",
      "47                                               None  \n",
      "48                                               None  \n",
      "49                                               None  \n",
      "50                                               None  \n",
      "51                                               None  \n",
      "52                                               None  \n",
      "53                                               None  \n",
      "..                                                ...  \n",
      "214                                              None  \n",
      "215                                              None  \n",
      "216                                              None  \n",
      "217                                              None  \n",
      "218                                              None  \n",
      "219                                              None  \n",
      "220                    http://www.cafe-crossroads.com  \n",
      "221  http://www.maozusa.com/restaurants/locations/nyc  \n",
      "222                http://www.onmud.com/pages/mudpark  \n",
      "223                                              None  \n",
      "224                                              None  \n",
      "225                                              None  \n",
      "226                   http://www.lepainquotidien.com/  \n",
      "227                                              None  \n",
      "228                      http://www.ottopizzeria.com/  \n",
      "229                                              None  \n",
      "230                                              None  \n",
      "231                         http://www.elolomega.com/  \n",
      "233                   http://www.wafelsanddinges.com/  \n",
      "234                       http://www.calexicocart.com  \n",
      "237                                              None  \n",
      "238                                              None  \n",
      "239                                              None  \n",
      "240                                              None  \n",
      "241                                              None  \n",
      "244                                              None  \n",
      "245                                              None  \n",
      "246                                              None  \n",
      "247                                              None  \n",
      "248                                              None  \n",
      "\n",
      "[194 rows x 10 columns]\n"
     ]
    }
   ],
   "source": [
    "#step 1 and 2: read the data and create a dataframe!\n",
    "import json\n",
    "\n",
    "#open the file and store all the contents in a list\n",
    "with open('DPR_Eateries_001.json', 'r') as file:\n",
    "    eat_list = json.load(file)\n",
    "    \n",
    "#create a dataframe from the list using pandas\n",
    "eat_dframe = pd.DataFrame(eat_list)\n",
    "\n",
    "#clean up the duplicates from the dataframe\n",
    "#we have defined subset as name because food carts often appear as duplicates based on their different locations in NYC\n",
    "clean_dframe = eat_dframe.drop_duplicates(subset = 'name')\n",
    "\n",
    "#we now have a clean dataframe that we can use to make visualizations\n",
    "print(clean_dframe)"
   ]
  },
  {
   "cell_type": "markdown",
   "metadata": {},
   "source": [
    "Before we move on, it might be useful to extract some data from this dataframe and keep it aside for later use.\n",
    "Namely, we will be extracting:\n",
    "<ul>\n",
    "    <li>The total number of eateries recorded in the dataset</li>\n",
    "    <li>The number and names of eatery categories in the dataset</li>\n",
    "    <li>The total number of eateries in each category</li>\n",
    "</ul>"
   ]
  },
  {
   "cell_type": "code",
   "execution_count": 4,
   "metadata": {},
   "outputs": [
    {
     "name": "stdout",
     "output_type": "stream",
     "text": [
      "Our dataset has 194 unique eateries recorded\n",
      "\n",
      "There are 6 categories in our dataset and they are:\n",
      "\"Food Cart\"\n",
      "\"Mobile Food Truck\"\n",
      "\"Restaurant\"\n",
      "\"Snack Bar\"\n",
      "\"Specialty Cart\"\n",
      "\"Fruit & Vegetable Cart\"\n",
      "\n",
      "The frequencies in our dataset are as follows: \n",
      "Mobile Food Truck         94\n",
      "Food Cart                 45\n",
      "Snack Bar                 24\n",
      "Restaurant                14\n",
      "Specialty Cart            13\n",
      "Fruit & Vegetable Cart     4\n",
      "Name: type_name, dtype: int64\n"
     ]
    }
   ],
   "source": [
    "#record the number of unique eateries in the dataset\n",
    "no_eateries = len(clean_dframe.index)\n",
    "print(\"Our dataset has \" + str(no_eateries) + \" unique eateries recorded\")\n",
    "\n",
    "print()#newline for formatting\n",
    "\n",
    "#access the type_name column of our dataframe to get the unique categories represented\n",
    "categories = clean_dframe.type_name.unique()\n",
    "print(\"There are \" + str(len(categories)) + \" categories in our dataset and they are:\")\n",
    "for category in categories:\n",
    "    print(\"\\\"\" + category + \"\\\"\")\n",
    "    \n",
    "print()#newline for formatting\n",
    "\n",
    "#use the value_counts() method on our dataframe to count out the frequency of each category!\n",
    "category_frequency = clean_dframe['type_name'].value_counts()\n",
    "print(\"The frequencies in our dataset are as follows: \")\n",
    "print(category_frequency)\n",
    "category_frequency = category_frequency.to_dict()#switch the pandas series to a dict for computing purposes"
   ]
  },
  {
   "cell_type": "markdown",
   "metadata": {},
   "source": [
    "Great! Now we can begin creating our plots. To recap:\n",
    "<ul>\n",
    "    <li>There are 194 unique eateries recorded</li>\n",
    "    <li>There are 6 categories: <b>Food cart, Mobile Food Truck, Restaurant, Snack Bar, Specialty Cart and Fruit & Vegetable cart</b></li>\n",
    "    <li>The most popular category of eatery is the mobile food truck, with 94 unique entries and the least is the fruit and vegetable cart with only 4 entries</li>\n",
    "</ul>\n",
    "\n",
    "<h2 style = \" text-align: center\">Now to create a complete, static visualization with seaborn!</h2>"
   ]
  },
  {
   "cell_type": "code",
   "execution_count": 5,
   "metadata": {
    "collapsed": true
   },
   "outputs": [],
   "source": [
    "#specify the settings of the bargraph\n",
    "sb.set_context(\"talk\")#make the graph more legible\n",
    "sb.set_style(\"dark\")\n",
    "sb_dframe = clean_dframe[['name', 'type_name']]\n",
    "sb_dframe.columns = ['Name', 'Category']"
   ]
  },
  {
   "cell_type": "code",
   "execution_count": 6,
   "metadata": {},
   "outputs": [
    {
     "data": {
      "image/png": "[encoded data removed]",
      "text/plain": [
       "<matplotlib.figure.Figure at 0x22b5768cef0>"
      ]
     },
     "metadata": {},
     "output_type": "display_data"
    }
   ],
   "source": [
    "sb.plt.title('Eatery Types in NYC')\n",
    "ax = sb.countplot(x = 'Category', data = sb_dframe, palette = 'Set2', orient = 'v')   #Vertical plot"
   ]
  },
  {
   "cell_type": "code",
   "execution_count": 7,
   "metadata": {},
   "outputs": [
    {
     "data": {
      "image/png": "[encoded data removed]",
      "text/plain": [
       "<matplotlib.figure.Figure at 0x22b5768c5c0>"
      ]
     },
     "metadata": {},
     "output_type": "display_data"
    }
   ],
   "source": [
    "sb.plt.title('Eatery Types in NYC')\n",
    "ax2 = sb.countplot(y = 'Category', data = sb_dframe, palette = 'Set2', orient = 'v') #horizontal plot"
   ]
  },
  {
   "cell_type": "markdown",
   "metadata": {},
   "source": [
    "Simple, short and to the point. However, Seaborn does not give us options to make our plots interactive. If a viewer would like to see another form of representation of the data, or tweak some of the parameters, they're out of luck unless it's explicitly included. Here's where plotly comes in!"
   ]
  },
  {
   "cell_type": "markdown",
   "metadata": {},
   "source": [
    "<h2 style = \" text-align: center\">Basic visualization in plotly!</h2>"
   ]
  },
  {
   "cell_type": "code",
   "execution_count": 8,
   "metadata": {},
   "outputs": [
    {
     "data": {
      "text/html": [
       "<iframe id=\"igraph\" scrolling=\"no\" style=\"border:none;\" seamless=\"seamless\" src=\"https://plot.ly/~alexlo94/2.embed\" height=\"525px\" width=\"100%\"></iframe>"
      ],
      "text/plain": [
       "<plotly.tools.PlotlyDisplay object>"
      ]
     },
     "execution_count": 8,
     "metadata": {},
     "output_type": "execute_result"
    }
   ],
   "source": [
    "#each plotly visualization starts with a \"trace\" let's have plotly produce the bargraph we made earlier\n",
    "trace_bar = go.Bar(x = list(category_frequency.keys()), y = list(category_frequency.values()), name = 'NYC Eateries')\n",
    "#a trace is a base for a layout, which specifies different labels for the figure\n",
    "layout = go.Layout(title = 'Eatery Types in NYC: Bar Graph')\n",
    "#We then combine a trace and layout to form a figure!\n",
    "fig = go.Figure(data = [trace_bar], layout = layout)\n",
    "\n",
    "py.iplot(fig, filename = 'bar-eatery')"
   ]
  },
  {
   "cell_type": "code",
   "execution_count": 9,
   "metadata": {},
   "outputs": [
    {
     "data": {
      "text/html": [
       "<iframe id=\"igraph\" scrolling=\"no\" style=\"border:none;\" seamless=\"seamless\" src=\"https://plot.ly/~alexlo94/4.embed\" height=\"525px\" width=\"100%\"></iframe>"
      ],
      "text/plain": [
       "<plotly.tools.PlotlyDisplay object>"
      ]
     },
     "execution_count": 9,
     "metadata": {},
     "output_type": "execute_result"
    }
   ],
   "source": [
    "#now let's try a pie chart in the same way\n",
    "trace_pie = go.Pie(labels = list(category_frequency.keys()), values = list(category_frequency.values()), hoverinfo = 'label+value', textinfo = 'percent+label')\n",
    "layout = go.Layout(title = 'Eatery Types in NYC: Pie Chart')\n",
    "fig = go.Figure(data = [trace_pie], layout = layout)\n",
    "\n",
    "py.iplot(fig, filename = 'pie-eatery')"
   ]
  },
  {
   "cell_type": "markdown",
   "metadata": {},
   "source": [
    "<h2 style = \" text-align: center\">Adding Interactivity: Switching Between Layouts</h2>"
   ]
  },
  {
   "cell_type": "code",
   "execution_count": 25,
   "metadata": {},
   "outputs": [
    {
     "data": {
      "text/html": [
       "<iframe id=\"igraph\" scrolling=\"no\" style=\"border:none;\" seamless=\"seamless\" src=\"https://plot.ly/~alexlo94/8.embed\" height=\"525px\" width=\"100%\"></iframe>"
      ],
      "text/plain": [
       "<plotly.tools.PlotlyDisplay object>"
      ]
     },
     "execution_count": 25,
     "metadata": {},
     "output_type": "execute_result"
    }
   ],
   "source": [
    "trace_bar = go.Bar(x = list(category_frequency.keys()), y = list(category_frequency.values()), name = 'NYC Eateries', visible = True)\n",
    "trace_pie = go.Pie(labels = list(category_frequency.keys()), values = list(category_frequency.values()), hoverinfo = 'label+value', textinfo = 'percent+label', visible = False)\n",
    "#first let's compile the two traces we made before into an array\n",
    "traces = [trace_bar, trace_pie]\n",
    "\n",
    "#now let's define the GUI\n",
    "updatemenus = list([\n",
    "    dict(type = 'buttons',\n",
    "        active = -1,\n",
    "        buttons = list([\n",
    "            dict(label = 'Bar',\n",
    "                method = 'update',\n",
    "                args = [{'visible' : [True, False]},\n",
    "                       {'title' : 'Eatery Types in NYC: Bar Graph',\n",
    "                       'xaxis': {'visible' : True},\n",
    "                       'yaxis': {'visible' : True}}]),\n",
    "            dict(label = 'Pie',\n",
    "                method = 'update',\n",
    "                args = [{'visible' : [False, True]},\n",
    "                       {'title' : 'Eatery Types in NYC: Pie Chart',\n",
    "                       'xaxis':{'visible' : False},\n",
    "                       'yaxis':{'visible' : False}}])\n",
    "        ])\n",
    "    )\n",
    "])\n",
    "\n",
    "\n",
    "layout = dict(title = 'Eatery Types in NYC: Bar Graph', updatemenus = updatemenus)\n",
    "fig = dict(data = traces, layout = layout)\n",
    "py.iplot(fig, filename = 'Eatery Types in NYC: Interactive')"
   ]
  },
  {
   "cell_type": "code",
   "execution_count": null,
   "metadata": {
    "collapsed": true
   },
   "outputs": [],
   "source": []
  }
 ],
 "metadata": {
  "kernelspec": {
   "display_name": "Python 3",
   "language": "python",
   "name": "python3"
  },
  "language_info": {
   "codemirror_mode": {
    "name": "ipython",
    "version": 3
   },
   "file_extension": ".py",
   "mimetype": "text/x-python",
   "name": "python",
   "nbconvert_exporter": "python",
   "pygments_lexer": "ipython3",
   "version": "3.6.1"
  }
 },
 "nbformat": 4,
 "nbformat_minor": 2
}
